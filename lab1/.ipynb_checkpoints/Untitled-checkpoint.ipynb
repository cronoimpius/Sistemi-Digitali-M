{
 "cells": [
  {
   "cell_type": "code",
   "execution_count": null,
   "id": "faaa45fa",
   "metadata": {},
   "outputs": [],
   "source": [
    "import cv2\n",
    "import time\n",
    "import numpy as np\n",
    "\n",
    "left = cv2.imread(\"cones0.png\", cv2.IMREAD_GRAYSCALE)\n",
    "right = cv2.imread(\"cones1.png\", cv2.IMREAD_GRAYSCALE)\n",
    "\n",
    "dmax = 64\n",
    "block_size = 7\n",
    "bm = cv2.StereoBM_create(dmax, block_size)\n"
   ]
  }
 ],
 "metadata": {
  "kernelspec": {
   "display_name": "Python 3 (ipykernel)",
   "language": "python",
   "name": "python3"
  },
  "language_info": {
   "codemirror_mode": {
    "name": "ipython",
    "version": 3
   },
   "file_extension": ".py",
   "mimetype": "text/x-python",
   "name": "python",
   "nbconvert_exporter": "python",
   "pygments_lexer": "ipython3",
   "version": "3.8.10"
  }
 },
 "nbformat": 4,
 "nbformat_minor": 5
}
