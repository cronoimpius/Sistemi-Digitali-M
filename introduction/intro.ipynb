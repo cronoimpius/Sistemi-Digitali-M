{
 "cells": [
  {
   "cell_type": "markdown",
   "id": "4cd89d33",
   "metadata": {},
   "source": [
    "# Intro exercises to python\n",
    "Exercizes of intro pdf"
   ]
  },
  {
   "cell_type": "markdown",
   "id": "9338d537",
   "metadata": {},
   "source": [
    "# 1\n",
    "Given the list [0,1,0,2,2,1,2,1,0,0,2,1,1], store the frequency of each value in a\n",
    "dict, where the key is the value."
   ]
  },
  {
   "cell_type": "code",
   "execution_count": 4,
   "id": "ddaee52d",
   "metadata": {},
   "outputs": [
    {
     "name": "stdout",
     "output_type": "stream",
     "text": [
      "[0, 0, 0, 0]\n",
      "[1, 1, 1, 1, 1]\n",
      "[2, 2, 2, 2]\n",
      "{'0': 4, '1': 5, '2': 4}\n"
     ]
    }
   ],
   "source": [
    "remaining_values = [0,1,0,2,2,1,2,1,0,0,2,1,1]\n",
    "res = {}\n",
    "while remaining_values !=[]:\n",
    "    occ = [x for x in remaining_values if x == remaining_values[0]]\n",
    "    res[str(remaining_values[0])] = len(occ)\n",
    "    remaining_values = [x for x in remaining_values if x != remaining_values[0]]# to exit from the while\n",
    "\n",
    "print(res)"
   ]
  },
  {
   "cell_type": "markdown",
   "id": "4549fa4e",
   "metadata": {},
   "source": [
    "   # 2\n",
    "We stored into the file temperatures.txt many of temperatures (expressed in\n",
    "Celsius degrees) for a set of places. Each line contains the values, separated by\n",
    "space, for a specific place.\n",
    "Find the maximum and minimum temperature for each place\n",
    "Find the global maximum and the minimum temperature"
   ]
  },
  {
   "cell_type": "code",
   "execution_count": 8,
   "id": "3e83c1a6",
   "metadata": {},
   "outputs": [
    {
     "name": "stdout",
     "output_type": "stream",
     "text": [
      "min: 5.0 max:  39.1\n"
     ]
    }
   ],
   "source": [
    "with open('temperatures.txt','r') as f:\n",
    "    lines = f.readlines()\n",
    "    \n",
    "mins = []\n",
    "maxs = []\n",
    "for line in lines:\n",
    "    local_t = line.strip().split(' ') # strip removes end line character and split divides the line\n",
    "    float_t = list(map(float, local_t))\n",
    "    local_min = min(float_t)\n",
    "    local_max = max(float_t)\n",
    "    mins.append(local_min)\n",
    "    maxs.append(local_max)\n",
    "global_max = max(maxs)\n",
    "global_min = min(mins)\n",
    "\n",
    "print(\"min:\", global_min, \"max: \", global_max) "
   ]
  },
  {
   "cell_type": "code",
   "execution_count": null,
   "id": "f17a3fc6",
   "metadata": {},
   "outputs": [],
   "source": []
  }
 ],
 "metadata": {
  "kernelspec": {
   "display_name": "Python 3 (ipykernel)",
   "language": "python",
   "name": "python3"
  },
  "language_info": {
   "codemirror_mode": {
    "name": "ipython",
    "version": 3
   },
   "file_extension": ".py",
   "mimetype": "text/x-python",
   "name": "python",
   "nbconvert_exporter": "python",
   "pygments_lexer": "ipython3",
   "version": "3.8.10"
  }
 },
 "nbformat": 4,
 "nbformat_minor": 5
}
