{
 "cells": [
  {
   "cell_type": "markdown",
   "id": "749f1739",
   "metadata": {},
   "source": [
    "# 1- Optimize python\n",
    "As known python is heavy and slow.\n",
    "It's important to avoid for loops and loops in general.\n",
    "Another way to make python code faster is to implement libraries in C and then make an interface to Python so the code will be faster.\n",
    "\n",
    "Now an example on how to do it."
   ]
  },
  {
   "cell_type": "code",
   "execution_count": 1,
   "id": "73213f60",
   "metadata": {},
   "outputs": [
    {
     "name": "stderr",
     "output_type": "stream",
     "text": [
      "/tmp/ipykernel_10012/317032168.py:34: RuntimeWarning: invalid value encountered in double_scalars\n",
      "  result[i,j] = c1[i,j] / c2[i,j]\n"
     ]
    },
    {
     "name": "stdout",
     "output_type": "stream",
     "text": [
      "Elapsed time only python: 2.3566\n",
      "Elapsed time using c function: 0.0069\n",
      "Elapsed time whitout loops: 0.0130\n"
     ]
    },
    {
     "name": "stderr",
     "output_type": "stream",
     "text": [
      "/tmp/ipykernel_10012/317032168.py:57: RuntimeWarning: invalid value encountered in divide\n",
      "  result = d1/d2\n"
     ]
    }
   ],
   "source": [
    "import numpy as np\n",
    "import time\n",
    "import os\n",
    "\n",
    "import ctypes\n",
    "from ctypes import *\n",
    "\n",
    "os.system(\"gcc -fPIC -shared -o libdigitali.so -fopenmp digitali.c\")\n",
    "lib = cdll.LoadLibrary(\"./libdigitali.so\")\n",
    "my_func = lib.custom_func\n",
    "\n",
    "#h, w = [2160, 4096]\n",
    "h, w = [375, 1240]\n",
    "\n",
    "a1 = np.random.rand(h,w)*255\n",
    "a2 = np.random.rand(h,w)*255\n",
    "b1 = 200*np.random.rand(h,w,2).astype(np.int32)\n",
    "b2 = 200*np.random.rand(h,w,2).astype(np.int32)\n",
    "c1 = np.zeros((h,w))\n",
    "c2 = np.zeros((h,w))\n",
    "\n",
    "d1 = np.zeros((h,w))\n",
    "d2 = np.zeros((h,w))\n",
    "result = np.zeros((a1.shape[0],a1.shape[1]))\n",
    "\n",
    "start = time.time()\n",
    "for i in range(a1.shape[0]):\n",
    "    for j in range(a1.shape[1]):\n",
    "        idy, idx = b1[i,j,:]\n",
    "        c1[idy,idx] = a1[i,j]\n",
    "        idy, idx = b2[i,j,:]\n",
    "        c2[idy,idx] = a2[i,j]\n",
    "\n",
    "        result[i,j] = c1[i,j] / c2[i,j]\n",
    "\n",
    "end = time.time()\n",
    "print(\"Elapsed time only python: %2.4f\"%(end-start))\n",
    "\n",
    "result = np.zeros((a1.shape[0],a1.shape[1]))\n",
    "a1_p = c_void_p(a1.ctypes.data)\n",
    "b1_p = c_void_p(b1.ctypes.data)\n",
    "a2_p = c_void_p(a2.ctypes.data)\n",
    "b2_p = c_void_p(b2.ctypes.data)\n",
    "res_p = c_void_p(result.ctypes.data)\n",
    "h_p = c_int(a1.shape[0])\n",
    "w_p = c_int(a1.shape[1])\n",
    "\n",
    "start = time.time()\n",
    "my_func(a1_p, b1_p, a2_p, b2_p, res_p, h_p, w_p)\n",
    "end = time.time()\n",
    "print(\"Elapsed time using c function: %2.4f\"%(end-start))\n",
    "\n",
    "\n",
    "start = time.time()\n",
    "d1[b1[:,:,0],b1[:,:,1]] = a1\n",
    "d2[b2[:,:,0],b2[:,:,1]] = a2\n",
    "result = d1/d2\n",
    "end = time.time()\n",
    "print(\"Elapsed time whitout loops: %2.4f\"%(end-start))"
   ]
  },
  {
   "cell_type": "markdown",
   "id": "5475ed97",
   "metadata": {},
   "source": [
    "# 2 - OpenCV examples\n",
    "Learn to use OpenCV with some ez Examples"
   ]
  },
  {
   "cell_type": "markdown",
   "id": "0cf08478",
   "metadata": {},
   "source": [
    "## 1  \n",
    "Given the image canyon.png load, load with, split the channels and save each channel in a new image called as the channel.\n",
    "For instance, the red channel will be saved as red.png"
   ]
  },
  {
   "cell_type": "code",
   "execution_count": 2,
   "id": "e56987be",
   "metadata": {},
   "outputs": [],
   "source": [
    "import cv2\n",
    "import numpy as np\n",
    "\n",
    "img = cv2.cvtColor(cv2.imread('canyon.png'), cv2.COLOR_BGR2RGB)\n",
    "red = img[:,:,0:1]\n",
    "green = img[:,:,1:2]\n",
    "blue = img[:,:,2:3]\n",
    "\n",
    "zeros = np.zeros_like(red, np.float32)\n",
    "red = np.concatenate([red,zeros,zeros], axis=-1)\n",
    "green = np.concatenate([zeros,green,zeros], axis=-1)\n",
    "blue = np.concatenate([zeros,zeros,blue], axis=-1)\n",
    "\n",
    "red = cv2.cvtColor(red, cv2.COLOR_RGB2BGR)\n",
    "green = cv2.cvtColor(green, cv2.COLOR_RGB2BGR)\n",
    "blue = cv2.cvtColor(blue, cv2.COLOR_RGB2BGR)\n",
    "\n",
    "cv2.imwrite('red.png',red)\n",
    "cv2.imwrite('green.png',green)\n",
    "cv2.imwrite('blue.png',blue)\n",
    "assert np.array_equal(blue+red+green, cv2.cvtColor(img, cv2.COLOR_RGB2BGR))"
   ]
  },
  {
   "cell_type": "markdown",
   "id": "57eaed14",
   "metadata": {},
   "source": [
    "## 2 \n",
    "Using the same image of the previous exercise, load it as gray-scale and replace all pixels with intensity lower than 80 with 0, 1 otherwise. Save it both as a new image, called mask.png, and as npy. Finally, apply the mask to the original image, keeping the original value where the mask is 1, 0 otherwise"
   ]
  },
  {
   "cell_type": "code",
   "execution_count": 3,
   "id": "9fc0d4ed",
   "metadata": {},
   "outputs": [
    {
     "name": "stdout",
     "output_type": "stream",
     "text": [
      "(480, 640)\n",
      "(480, 640, 3)\n"
     ]
    },
    {
     "data": {
      "text/plain": [
       "True"
      ]
     },
     "execution_count": 3,
     "metadata": {},
     "output_type": "execute_result"
    }
   ],
   "source": [
    "import cv2\n",
    "import numpy as np\n",
    "img = cv2.imread('canyon.png')\n",
    "gray_img = cv2.cvtColor(img, cv2.COLOR_BGR2GRAY)\n",
    "\n",
    "mask = np.where(gray_img<80, 0.,1.)\n",
    "cv2.imwrite('mask.png',mask*255.)\n",
    "np.save('mask.npy',mask)\n",
    "print(mask.shape)\n",
    "masked_img = img*np.expand_dims(mask, -1)\n",
    "print(masked_img.shape)\n",
    "cv2.imwrite('masked_img.png',masked_img)\n"
   ]
  },
  {
   "cell_type": "markdown",
   "id": "4290cdd6",
   "metadata": {},
   "source": [
    "## 3\n",
    "Using Matplotlib, display intensity values of canyon.png (loaded as grayscale image) in a bar chart. For each intensity value, the height of the column is given by the number of pixels that have such intensity value"
   ]
  },
  {
   "cell_type": "code",
   "execution_count": 4,
   "id": "a845a931",
   "metadata": {},
   "outputs": [
    {
     "data": {
      "image/png": "[encoded data removed]",
      "text/plain": [
       "<Figure size 640x480 with 1 Axes>"
      ]
     },
     "metadata": {},
     "output_type": "display_data"
    }
   ],
   "source": [
    "import cv2\n",
    "import numpy as np\n",
    "import matplotlib.pyplot as plt\n",
    "\n",
    "img = cv2.cvtColor(cv2.imread('canyon.png'), cv2.COLOR_BGR2GRAY)\n",
    "\n",
    "val = []\n",
    "for i in range(256):\n",
    "    n=np.where(img == i,1.,0.).sum()\n",
    "    val.append(n)\n",
    "plt.bar(range(256), height=val, width=1.)\n",
    "plt.xlabel('intensity')\n",
    "plt.ylabel('pixels')\n",
    "plt.show()"
   ]
  },
  {
   "cell_type": "markdown",
   "id": "cc368280",
   "metadata": {},
   "source": [
    "# 3- Scikit-learn examples\n",
    "A toy example to try scikit-learn.\n",
    "\n",
    "Banknote classification (fake or authentic) according to features extracted from\n",
    "the banknote image itself\n",
    "For each banknote in our dataset, we compute 4 features using image\n",
    "processing techniques and store them in a .csv file\n",
    "We can download a toy dataset in this format from [here ](https://drive.google.com/file/d/13nw-uRXPY8XIZQxKRNZ3yYlho-CYm_Qt/view)."
   ]
  },
  {
   "cell_type": "code",
   "execution_count": 5,
   "id": "5444273b",
   "metadata": {},
   "outputs": [
    {
     "name": "stdout",
     "output_type": "stream",
     "text": [
      "   Variance  Skewness  Curtosis  Entropy  Class\n",
      "0   3.62160    8.6661   -2.8073 -0.44699      0\n",
      "1   4.54590    8.1674   -2.4586 -1.46210      0\n",
      "2   3.86600   -2.6383    1.9242  0.10645      0\n",
      "3   3.45660    9.5228   -4.0112 -3.59440      0\n",
      "4   0.32924   -4.4552    4.5718 -0.98880      0\n"
     ]
    }
   ],
   "source": [
    "import pandas as pd\n",
    "from sklearn.model_selection import train_test_split\n",
    "from sklearn.tree import DecisionTreeClassifier\n",
    "from sklearn.metrics import classification_report, confusion_matrix\n",
    "\n",
    "dataset = pd.read_csv(\"bill_authentication.csv\")\n",
    "# show top 5 entries\n",
    "print(dataset.head())"
   ]
  },
  {
   "cell_type": "code",
   "execution_count": 12,
   "id": "08406da6",
   "metadata": {},
   "outputs": [
    {
     "name": "stdout",
     "output_type": "stream",
     "text": [
      "[[160   1]\n",
      " [  1 113]]\n",
      "              precision    recall  f1-score   support\n",
      "\n",
      "           0       0.99      0.99      0.99       161\n",
      "           1       0.99      0.99      0.99       114\n",
      "\n",
      "    accuracy                           0.99       275\n",
      "   macro avg       0.99      0.99      0.99       275\n",
      "weighted avg       0.99      0.99      0.99       275\n",
      "\n"
     ]
    }
   ],
   "source": [
    "# split entries into data and labels\n",
    "x = dataset.drop('Class', axis=1)\n",
    "#print(x.head())\n",
    "y = dataset['Class']\n",
    "#print(y.head())\n",
    "\n",
    "# prepare a training/testing split\n",
    "x_tr, x_te, y_tr, y_te = train_test_split(x,y,test_size=0.2)\n",
    "\n",
    "# train the tree\n",
    "classifier = DecisionTreeClassifier()\n",
    "classifier.fit(x_tr, y_tr)\n",
    "\n",
    "# test on testing data\n",
    "y_pred = classifier.predict(x_te)\n",
    "\n",
    "#printing results\n",
    "print(confusion_matrix(y_te, y_pred))\n",
    "print(classification_report(y_te, y_pred))"
   ]
  },
  {
   "cell_type": "markdown",
   "id": "9dc3f620",
   "metadata": {},
   "source": [
    "Below we can see the confusion matrix.\n",
    "\n",
    "### Confusion matrix: \n",
    "> a 2D matrix showing for each class (rows) the distribution of\n",
    "labels assigned by the classifier (columns). Main diagonal = correct labels"
   ]
  }
 ],
 "metadata": {
  "kernelspec": {
   "display_name": "Python 3 (ipykernel)",
   "language": "python",
   "name": "python3"
  },
  "language_info": {
   "codemirror_mode": {
    "name": "ipython",
    "version": 3
   },
   "file_extension": ".py",
   "mimetype": "text/x-python",
   "name": "python",
   "nbconvert_exporter": "python",
   "pygments_lexer": "ipython3",
   "version": "3.8.10"
  }
 },
 "nbformat": 4,
 "nbformat_minor": 5
}
